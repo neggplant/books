{
 "cells": [
  {
   "cell_type": "markdown",
   "metadata": {
    "collapsed": true,
    "pycharm": {
     "name": "#%% md\n"
    }
   },
   "source": [
    "32，函数默认参数生成一次对象，避免使用可变"
   ]
  },
  {
   "cell_type": "code",
   "execution_count": 1,
   "outputs": [
    {
     "data": {
      "text/plain": "[23, 23]"
     },
     "execution_count": 1,
     "metadata": {},
     "output_type": "execute_result"
    }
   ],
   "source": [
    "import string\n",
    "from unicodedata import decimal\n",
    "\n",
    "\n",
    "def temp(a=[]):\n",
    "    a.append(23)\n",
    "    return a\n",
    "\n",
    "\n",
    "temp()\n",
    "temp()"
   ],
   "metadata": {
    "collapsed": false,
    "pycharm": {
     "name": "#%%\n"
    }
   }
  },
  {
   "cell_type": "code",
   "execution_count": 19,
   "outputs": [
    {
     "name": "stdout",
     "output_type": "stream",
     "text": [
      "1626849259.4108694\n",
      "1626849259.4269192\n"
     ]
    }
   ],
   "source": [
    "import time\n",
    "def temp(a=time.time):\n",
    "    time.sleep(0.01)\n",
    "    print(a())\n",
    "temp()\n",
    "temp()"
   ],
   "metadata": {
    "collapsed": false,
    "pycharm": {
     "name": "#%%\n"
    }
   }
  },
  {
   "cell_type": "markdown",
   "source": [
    "34、str和repr\n",
    "str面向用户，repr面向程序员\n",
    "用户类中实现__repr__方法时，应确保使用功能eval()方法还原对象"
   ],
   "metadata": {
    "collapsed": false,
    "pycharm": {
     "name": "#%% md\n"
    }
   }
  },
  {
   "cell_type": "code",
   "execution_count": 28,
   "outputs": [
    {
     "name": "stdout",
     "output_type": "stream",
     "text": [
      "2021-07-21 15:02:07.390430\n",
      "datetime.datetime(2021, 7, 21, 15, 2, 7, 390430)\n",
      "4535.34000000000014551915228366851806640625\n",
      "Decimal('4535.34000000000014551915228366851806640625')\n",
      "4535.34\n",
      "4535.34\n"
     ]
    }
   ],
   "source": [
    "from datetime import datetime\n",
    "from decimal import Decimal\n",
    "print(str(datetime.today()))\n",
    "print(repr(datetime.today()))\n",
    "print(str(Decimal(4535.34)))\n",
    "print(repr(Decimal(4535.34)))\n",
    "print(str(float(4535.34)))\n",
    "print(repr(float(4535.34)))"
   ],
   "metadata": {
    "collapsed": false,
    "pycharm": {
     "name": "#%%\n"
    }
   }
  },
  {
   "cell_type": "markdown",
   "source": [
    "静态方法和类方法使用的场景"
   ],
   "metadata": {
    "collapsed": false,
    "pycharm": {
     "name": "#%% md\n"
    }
   }
  },
  {
   "cell_type": "code",
   "execution_count": 47,
   "outputs": [
    {
     "name": "stdout",
     "output_type": "stream",
     "text": [
      "200\n",
      "200\n",
      "300\n",
      "300\n"
     ]
    }
   ],
   "source": [
    "class Fruit(object):\n",
    "    total = 0\n",
    "    @classmethod\n",
    "    def print_total(cls):\n",
    "        print(cls.total)\n",
    "\n",
    "    @classmethod\n",
    "    def set(cls, value):\n",
    "        cls.total = value\n",
    "\n",
    "class Apple(Fruit):\n",
    "    pass\n",
    "\n",
    "class Orange(Fruit):\n",
    "    pass\n",
    "\n",
    "app1 = Apple()\n",
    "app1.set(200)\n",
    "app2 = Apple()\n",
    "org1 = Orange()\n",
    "org1.set(300)\n",
    "org2 = Orange()\n",
    "app1.print_total()\n",
    "app2.print_total()\n",
    "org1.print_total()\n",
    "org2.print_total()\n"
   ],
   "metadata": {
    "collapsed": false,
    "pycharm": {
     "name": "#%%\n"
    }
   }
  },
  {
   "cell_type": "markdown",
   "source": [
    "36 正确使用字符串"
   ],
   "metadata": {
    "collapsed": false,
    "pycharm": {
     "name": "#%% md\n"
    }
   }
  },
  {
   "cell_type": "code",
   "execution_count": 7,
   "outputs": [
    {
     "data": {
      "text/plain": "'234345645678'"
     },
     "execution_count": 7,
     "metadata": {},
     "output_type": "execute_result"
    }
   ],
   "source": [
    "# 推荐使用小括号\n",
    "a_str = (\n",
    "    '234'\n",
    "    '3456'\n",
    "    '45678'\n",
    ")\n",
    "a_str"
   ],
   "metadata": {
    "collapsed": false,
    "pycharm": {
     "name": "#%%\n"
    }
   }
  },
  {
   "cell_type": "code",
   "execution_count": 9,
   "outputs": [
    {
     "data": {
      "text/plain": "9"
     },
     "execution_count": 9,
     "metadata": {},
     "output_type": "execute_result"
    }
   ],
   "source": [
    "# 使用如下函数对字符串进行判断\n",
    "a_str.isalnum()\n",
    "a_str.isalpha()\n",
    "a_str.isdigit()\n",
    "a_str.istitle()\n",
    "a_str.isupper()\n",
    "# ...\n",
    "# 以下善加利用可以优化性能\n",
    "a_str.startswith('2', 0, 5)\n",
    "a_str.endswith('2', 0, 5)\n",
    "\n",
    "# count, find, index, sub, rfind, rindex,\n",
    "# 都可以使用start，end，善加利用可以优化性能\n",
    "# 使用count后，在使用replace可以有所帮助\n",
    "# find找不到-1，index异常\n",
    "a_str.find('67')"
   ],
   "metadata": {
    "collapsed": false,
    "pycharm": {
     "name": "#%%\n"
    }
   }
  },
  {
   "cell_type": "code",
   "execution_count": 18,
   "outputs": [
    {
     "name": "stdout",
     "output_type": "stream",
     "text": [
      "['aa', 'bb']\n",
      "['aa', '', '', 'bb']\n"
     ]
    }
   ],
   "source": [
    "# a_str.split()和a_str.split(' ')是不一样的\n",
    "# split()先去除字符串两侧空白符，将连续的空白符当成一个，\n",
    "# split(' ')认为两个连续的空白符直降有一个空白符\n",
    "a_str='aa   bb'\n",
    "print(a_str.split())\n",
    "print(a_str.split(' '))\n"
   ],
   "metadata": {
    "collapsed": false,
    "pycharm": {
     "name": "#%%\n"
    }
   }
  },
  {
   "cell_type": "code",
   "execution_count": 27,
   "outputs": [
    {
     "name": "stdout",
     "output_type": "stream",
     "text": [
      "Aaa   Bbb\n",
      "Aaa Bbb\n"
     ]
    }
   ],
   "source": [
    "# 使用string模块可以将连续的空白符合并一个\n",
    "import string\n",
    "a_str='aaa   bbb'\n",
    "print(a_str.title())\n",
    "print(string.capwords(a_str))"
   ],
   "metadata": {
    "collapsed": false,
    "pycharm": {
     "name": "#%%\n"
    }
   }
  },
  {
   "cell_type": "markdown",
   "source": [
    "37 排序"
   ],
   "metadata": {
    "collapsed": false,
    "pycharm": {
     "name": "#%% md\n"
    }
   }
  },
  {
   "cell_type": "code",
   "execution_count": 40,
   "outputs": [
    {
     "name": "stdout",
     "output_type": "stream",
     "text": [
      "[('da', 3), ('bb', 4), ('cc', 5)]\n",
      "[('da', 3), ('bb', 4), ('cc', 5)]\n"
     ]
    }
   ],
   "source": [
    "\n",
    "from operator import itemgetter\n",
    "# 对字典的值进行排序\n",
    "d_dict = {\n",
    "    'bb': 4,\n",
    "    'da': 3,\n",
    "    'cc': 5,\n",
    "}\n",
    "print(sorted(d_dict.items(), key=itemgetter(1)))\n",
    "print(sorted(d_dict.items(), key=lambda x: x[1]))"
   ],
   "metadata": {
    "collapsed": false,
    "pycharm": {
     "name": "#%%\n"
    }
   }
  },
  {
   "cell_type": "code",
   "execution_count": 46,
   "outputs": [
    {
     "name": "stdout",
     "output_type": "stream",
     "text": [
      "[['wang', 37, 'A'], ['li', 47, 'B'], ['li', 77, 'B'], ['li', 97, 'B'], ['zhang', 60, 'C']]\n",
      "[['wang', 37, 'A'], ['li', 47, 'B'], ['li', 77, 'B'], ['li', 97, 'B'], ['zhang', 60, 'C']]\n"
     ]
    }
   ],
   "source": [
    "# 多级列表排序\n",
    "l_list = [\n",
    "    ['zhang', 60, 'C'],\n",
    "    ['wang', 37, 'A'],\n",
    "    ['li', 77, 'B'],\n",
    "    ['li', 97, 'B'],\n",
    "    ['li', 47, 'B'],\n",
    "]\n",
    "print(sorted(l_list, key=itemgetter(2,1)))\n",
    "print(sorted(l_list, key=lambda x: (x[2], x[1])))"
   ],
   "metadata": {
    "collapsed": false,
    "pycharm": {
     "name": "#%%\n"
    }
   }
  },
  {
   "cell_type": "code",
   "execution_count": 50,
   "outputs": [
    {
     "name": "stdout",
     "output_type": "stream",
     "text": [
      "[[[125, 2, 3]], []]\n",
      "[[[545, 2, 3]], []]\n",
      "[[[125, 2, 3]], []]\n"
     ]
    }
   ],
   "source": [
    "# 38 copy模块进行计数\n",
    "import copy\n",
    "a = [[[1,2,3]],[]]\n",
    "b = copy.deepcopy(a)\n",
    "c = copy.copy(a)\n",
    "b[0][0][0] = 545\n",
    "c[0][0][0] = 125\n",
    "print(a)\n",
    "print(b)\n",
    "print(c)"
   ],
   "metadata": {
    "collapsed": false,
    "pycharm": {
     "name": "#%%\n"
    }
   }
  },
  {
   "cell_type": "markdown",
   "source": [
    "39 计数"
   ],
   "metadata": {
    "collapsed": false,
    "pycharm": {
     "name": "#%% md\n"
    }
   }
  },
  {
   "cell_type": "code",
   "execution_count": 56,
   "outputs": [
    {
     "name": "stdout",
     "output_type": "stream",
     "text": [
      "Counter({'4': 2, '3': 1, '2': 1})\n",
      "Counter({'b': 67, 'a': 34, 'c': 26})\n",
      "Counter({1: 34, 43: 5})\n"
     ]
    }
   ],
   "source": [
    "from collections import Counter\n",
    "print(Counter(\"3424\")) # 可迭代对象\n",
    "print(Counter(a=34, b=67, c=26)) # 关键参数\n",
    "print(Counter({1:34,43:5})) # 字典"
   ],
   "metadata": {
    "collapsed": false,
    "pycharm": {
     "name": "#%%\n"
    }
   }
  },
  {
   "cell_type": "code",
   "execution_count": null,
   "outputs": [],
   "source": [],
   "metadata": {
    "collapsed": false,
    "pycharm": {
     "name": "#%%\n"
    }
   }
  }
 ],
 "metadata": {
  "kernelspec": {
   "display_name": "Python 3",
   "language": "python",
   "name": "python3"
  },
  "language_info": {
   "codemirror_mode": {
    "name": "ipython",
    "version": 2
   },
   "file_extension": ".py",
   "mimetype": "text/x-python",
   "name": "python",
   "nbconvert_exporter": "python",
   "pygments_lexer": "ipython2",
   "version": "2.7.6"
  }
 },
 "nbformat": 4,
 "nbformat_minor": 0
}