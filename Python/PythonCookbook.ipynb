{
 "cells": [
  {
   "cell_type": "markdown",
   "source": [
    "## 第一章 数据结构和算法"
   ],
   "metadata": {
    "collapsed": false,
    "pycharm": {
     "name": "#%% md\n"
    }
   }
  },
  {
   "cell_type": "code",
   "execution_count": 1,
   "metadata": {
    "collapsed": true
   },
   "outputs": [
    {
     "name": "stdout",
     "output_type": "stream",
     "text": [
      "[2, 3, 4]\n"
     ]
    }
   ],
   "source": [
    "# 1.2 使用*解压多个变量的迭代对象,解压出来的是一个列表\n",
    "a, *b, c = (1, 2, 3, 4, 5)\n",
    "print(b)"
   ]
  },
  {
   "cell_type": "code",
   "execution_count": 7,
   "outputs": [
    {
     "name": "stdout",
     "output_type": "stream",
     "text": [
      "deque([1, 3], maxlen=2)\n"
     ]
    }
   ],
   "source": [
    "# 1.3 保留最后的N个元素\n",
    "# 使用collections.deque\n",
    "from collections import deque\n",
    "\n",
    "a = deque(maxlen=2)\n",
    "a.append(1)\n",
    "a.appendleft(2)\n",
    "a.append(3)\n",
    "print(a)"
   ],
   "metadata": {
    "collapsed": false,
    "pycharm": {
     "name": "#%%\n"
    }
   }
  },
  {
   "cell_type": "code",
   "execution_count": 22,
   "outputs": [
    {
     "name": "stdout",
     "output_type": "stream",
     "text": [
      "[{'name': 'YHOO', 'shares': 45, 'price': 16.35}, {'name': 'FB', 'shares': 200, 'price': 21.09}, {'name': 'HPQ', 'shares': 35, 'price': 31.75}] [{'name': 'AAPL', 'shares': 50, 'price': 543.22}, {'name': 'ACME', 'shares': 75, 'price': 115.65}, {'name': 'IBM', 'shares': 100, 'price': 91.1}]\n",
      "[-4, 2, 1, 23, 7, 2, 18, 23, 42, 37, 8]\n"
     ]
    }
   ],
   "source": [
    "# 1.4 查最大最小N个元素\n",
    "# 使用heapq的nlargest和nsmallest\n",
    "import heapq\n",
    "\n",
    "portfolio = [\n",
    "    {'name': 'IBM', 'shares': 100, 'price': 91.1},\n",
    "    {'name': 'AAPL', 'shares': 50, 'price': 543.22},\n",
    "    {'name': 'FB', 'shares': 200, 'price': 21.09},\n",
    "    {'name': 'HPQ', 'shares': 35, 'price': 31.75},\n",
    "    {'name': 'YHOO', 'shares': 45, 'price': 16.35},\n",
    "    {'name': 'ACME', 'shares': 75, 'price': 115.65}\n",
    "]\n",
    "cheap = heapq.nsmallest(3, portfolio, key=lambda s: s['price'])\n",
    "expensive = heapq.nlargest(3, portfolio, key=lambda s: s['price'])\n",
    "print(cheap, expensive)\n",
    "\n",
    "nums = [1, 8, 2, 23, 7, -4, 18, 23, 42, 37, 2]\n",
    "import heapq\n",
    "\n",
    "heap = list(nums)\n",
    "heapq.heapify(heap)\n",
    "print(heap)"
   ],
   "metadata": {
    "collapsed": false,
    "pycharm": {
     "name": "#%%\n"
    }
   }
  },
  {
   "cell_type": "code",
   "execution_count": 23,
   "outputs": [],
   "source": [
    "# 1.5 实现优先队列\n",
    "import heapq\n",
    "\n",
    "\n",
    "class PriorityQueue:\n",
    "    def __init__(self):\n",
    "        self._queue = []\n",
    "        self._index = 0\n",
    "\n",
    "    def push(self, item, priority):\n",
    "        # index 变量的作用是保证同等优先级元素的正确排序\n",
    "        heapq.heappush(self._queue, (-priority, self._index, item))\n",
    "        self._index += 1\n",
    "\n",
    "    def pop(self):\n",
    "        return heapq.heappop(self._queue)[-1]\n",
    "\n",
    "\n",
    "class Item:\n",
    "    def __init__(self, name):\n",
    "        self.name = name\n",
    "\n",
    "    def __repr__(self):\n",
    "        return 'Item({!r})'.format(self.name)\n",
    "\n",
    "\n",
    "q = PriorityQueue()\n",
    "q.push(Item('foo'), 1)\n",
    "q.push(Item('bar'), 5)"
   ],
   "metadata": {
    "collapsed": false,
    "pycharm": {
     "name": "#%%\n"
    }
   }
  },
  {
   "cell_type": "code",
   "execution_count": 24,
   "outputs": [],
   "source": [
    "# 1.6 字典构造多个值\n",
    "# 使用collections的defaultdict\n",
    "from collections import defaultdict\n",
    "\n",
    "d = defaultdict(list)\n",
    "d['a'].append(1)\n",
    "d['a'].append(2)\n",
    "\n",
    "d = defaultdict(set)\n",
    "d['a'].add(1)\n",
    "d['a'].add(3)\n",
    "\n",
    "d = {}  # 一个普通的字典\n",
    "d.setdefault('a', []).append(1)\n",
    "\n",
    "d = {}\n",
    "pairs = ((1, 2), (2, 3), (3, 4))\n",
    "for key, value in pairs:\n",
    "    if key not in d:\n",
    "        d[key] = []\n",
    "    d[key].append(value)\n",
    "# 对比优化\n",
    "d = defaultdict(list)\n",
    "for key, value in pairs:\n",
    "    d[key].append(value)"
   ],
   "metadata": {
    "collapsed": false,
    "pycharm": {
     "name": "#%%\n"
    }
   }
  },
  {
   "cell_type": "code",
   "execution_count": 28,
   "outputs": [
    {
     "name": "stdout",
     "output_type": "stream",
     "text": [
      "OrderedDict([(13, 45), (3, 3), (5, 45)])\n",
      "13 45\n",
      "3 3\n",
      "5 45\n"
     ]
    }
   ],
   "source": [
    "# 1.7 字典排序\n",
    "from collections import OrderedDict\n",
    "\n",
    "# 按插入顺序排列，key相同修改val\n",
    "d = OrderedDict()\n",
    "d[13] = 543\n",
    "d[3] = 3\n",
    "d[5] = 45\n",
    "d[13] = 45\n",
    "print(d)\n",
    "for k in d:\n",
    "    print(k,d[k])"
   ],
   "metadata": {
    "collapsed": false,
    "pycharm": {
     "name": "#%%\n"
    }
   }
  },
  {
   "cell_type": "code",
   "execution_count": 36,
   "outputs": [
    {
     "name": "stdout",
     "output_type": "stream",
     "text": [
      "(10.75, 'FB')\n",
      "('AAPL', 612.78)\n"
     ]
    }
   ],
   "source": [
    "# 1.8 字典最大最小\n",
    "prices = {\n",
    "    'ACME': 45.23,\n",
    "    'AAPL': 612.78,\n",
    "    'IBM': 205.55,\n",
    "    'HPQ': 37.20,\n",
    "    'FB': 10.75\n",
    "}\n",
    "print(min(zip(prices.values(), prices.keys())))\n",
    "print(min(zip(prices.keys(), prices.values())))"
   ],
   "metadata": {
    "collapsed": false,
    "pycharm": {
     "name": "#%%\n"
    }
   }
  },
  {
   "cell_type": "code",
   "execution_count": 40,
   "outputs": [
    {
     "data": {
      "text/plain": "{('y', 2)}"
     },
     "execution_count": 40,
     "metadata": {},
     "output_type": "execute_result"
    }
   ],
   "source": [
    "# 1.9 查找两个字典的相同key或val等\n",
    "a = {\n",
    "    'x' : 1,\n",
    "    'y' : 2,\n",
    "    'z' : 3\n",
    "}\n",
    "\n",
    "b = {\n",
    "    'w' : 10,\n",
    "    'x' : 11,\n",
    "    'y' : 2\n",
    "}\n",
    "a.keys() & b.keys() # { 'x', 'y' }\n",
    "# Find keys in a that are not in b\n",
    "a.keys() - b.keys() # { 'z' }\n",
    "# Find (key,value) pairs in common\n",
    "a.items() & b.items() # { ('y', 2) }"
   ],
   "metadata": {
    "collapsed": false,
    "pycharm": {
     "name": "#%%\n"
    }
   }
  },
  {
   "cell_type": "code",
   "execution_count": 41,
   "outputs": [
    {
     "name": "stdout",
     "output_type": "stream",
     "text": [
      "[{'x': 1, 'y': 2}, {'x': 1, 'y': 3}, {'x': 2, 'y': 4}]\n",
      "[{'x': 1, 'y': 2}, {'x': 2, 'y': 4}]\n"
     ]
    }
   ],
   "source": [
    "# 1.10 保持原有顺序消除重复元素\n",
    "def dedupe(items, key=None):\n",
    "    seen = set()\n",
    "    for item in items:\n",
    "        val = item if key is None else key(item)\n",
    "        if val not in seen:\n",
    "            yield item\n",
    "            seen.add(val)\n",
    "a = [ {'x':1, 'y':2}, {'x':1, 'y':3}, {'x':1, 'y':2}, {'x':2, 'y':4}]\n",
    "print(list(dedupe(a, key=lambda d: (d['x'],d['y']))))\n",
    "print(list(dedupe(a, key=lambda d: d['x'])))"
   ],
   "metadata": {
    "collapsed": false,
    "pycharm": {
     "name": "#%%\n"
    }
   }
  }
 ],
 "metadata": {
  "kernelspec": {
   "display_name": "Python 3",
   "language": "python",
   "name": "python3"
  },
  "language_info": {
   "codemirror_mode": {
    "name": "ipython",
    "version": 2
   },
   "file_extension": ".py",
   "mimetype": "text/x-python",
   "name": "python",
   "nbconvert_exporter": "python",
   "pygments_lexer": "ipython2",
   "version": "2.7.6"
  }
 },
 "nbformat": 4,
 "nbformat_minor": 0
}